{
 "cells": [
  {
   "cell_type": "markdown",
   "id": "253991de-97eb-490c-b24a-08eab7effa74",
   "metadata": {},
   "source": [
    "1. You are writing code for a company. The requirement of the company is that you create a python\n",
    "function that will check whether the password entered by the user is correct or not. The function should\n",
    "take the password as input and return the string “Valid Password” if the entered password follows the\n",
    "below-given password guidelines else it should return “Invalid Password”.\n",
    "\n",
    "\n",
    "Note: \n",
    "1. The Password should contain at least two uppercase letters and at least two lowercase letters.\n",
    "2. The Password should contain at least a number and three special characters.\n",
    "3. The length of the password should be 10 characters long."
   ]
  },
  {
   "cell_type": "code",
   "execution_count": 4,
   "id": "96437079-cd20-49d5-a590-1a84abf4047a",
   "metadata": {},
   "outputs": [
    {
     "name": "stdin",
     "output_type": "stream",
     "text": [
      "Enter your password:  nvhrhyr\n"
     ]
    },
    {
     "name": "stdout",
     "output_type": "stream",
     "text": [
      "Invalid Password\n"
     ]
    },
    {
     "name": "stdin",
     "output_type": "stream",
     "text": [
      "Do you want to try again? (yes/no):  yes\n",
      "Enter your password:  AnandB1___\n"
     ]
    },
    {
     "name": "stdout",
     "output_type": "stream",
     "text": [
      "Valid Password\n"
     ]
    }
   ],
   "source": [
    "import re\n",
    "\n",
    "def check_password(password):\n",
    "    # Check password length\n",
    "    if len(password) != 10:\n",
    "        return \"Invalid Password\"\n",
    "\n",
    "    # Check uppercase letters\n",
    "    if len(re.findall(r'[A-Z]', password)) < 2:\n",
    "        return \"Invalid Password\"\n",
    "\n",
    "    # Check lowercase letters\n",
    "    if len(re.findall(r'[a-z]', password)) < 2:\n",
    "        return \"Invalid Password\"\n",
    "\n",
    "    # Check numbers\n",
    "    if len(re.findall(r'\\d', password)) < 1:\n",
    "        return \"Invalid Password\"\n",
    "\n",
    "    # Check special characters\n",
    "    if len(re.findall(r'[!@#$%^&*()-=_+]', password)) < 3:\n",
    "        return \"Invalid Password\"\n",
    "\n",
    "    return \"Valid Password\"\n",
    "\n",
    "def validate_password():\n",
    "    while True:\n",
    "        password = input(\"Enter your password: \")\n",
    "        result = check_password(password)\n",
    "        if result == \"Valid Password\":\n",
    "            print(result)\n",
    "            break\n",
    "        else:\n",
    "            print(result)\n",
    "            choice = input(\"Do you want to try again? (yes/no): \")\n",
    "            if choice.lower() != \"yes\":\n",
    "                break\n",
    "\n",
    "validate_password()\n"
   ]
  },
  {
   "cell_type": "raw",
   "id": "78a0f662-4250-46c8-9ba8-0c1c2905009c",
   "metadata": {},
   "source": []
  },
  {
   "cell_type": "raw",
   "id": "54239a2f-36a7-45c7-8545-eae36de3033b",
   "metadata": {},
   "source": []
  },
  {
   "cell_type": "markdown",
   "id": "62645c7e-cf34-482d-95dd-218b8c924ef2",
   "metadata": {},
   "source": [
    "Q2. Solve the below-given questions using at least one of the following:\n",
    "1. Lambda function\n",
    "2. Filter function\n",
    "3. Zap function\n",
    "4. List Comprehension"
   ]
  },
  {
   "cell_type": "markdown",
   "id": "6b0a75f8-99d3-4bcf-ba60-60139e4f02cb",
   "metadata": {},
   "source": [
    "- Check if the string starts with a particular letterY\n",
    "- Check if the string is numericY\n",
    "- Sort a list of tuples having fruit names and their quantity. [(\"mango\",99),(\"orange\",80), (\"grapes\", 1000)-\n",
    "- Find the squares of numbers from 1 to 10Y\n",
    "- Find the cube root of numbers from 1 to 10Y\n",
    "- Check if a given number is evenY\n",
    "- Filter odd numbers from the given list.\n",
    "[1,2,3,4,5,6,7,8,9,10]\n",
    "- Sort a list of integers into positive and negative integers lists.\n",
    "[1,2,3,4,5,6,-1,-2,-3,-4,-5,0]"
   ]
  },
  {
   "cell_type": "markdown",
   "id": "d4983c83-1956-4eaf-bfff-a6b3ae7c1ee8",
   "metadata": {},
   "source": [
    "1. Check if the string starts with a particular letter:"
   ]
  },
  {
   "cell_type": "code",
   "execution_count": 28,
   "id": "01459b2b-d216-40ad-82d5-07af565e2ffd",
   "metadata": {},
   "outputs": [
    {
     "name": "stdout",
     "output_type": "stream",
     "text": [
      "True\n"
     ]
    }
   ],
   "source": [
    "# Using \"lambda\" function:\n",
    "starts_with_letter = lambda string, letter: string.startswith(letter)\n",
    "result = starts_with_letter(\"Hello\", \"H\")\n",
    "print(result)  \n"
   ]
  },
  {
   "cell_type": "markdown",
   "id": "64f659e5-57c9-492e-b171-056b32b1d9de",
   "metadata": {},
   "source": [
    "2. Check if the string is numericY"
   ]
  },
  {
   "cell_type": "code",
   "execution_count": 27,
   "id": "8f78d080-3dd0-4d43-aaea-9822cb79ec5a",
   "metadata": {},
   "outputs": [
    {
     "name": "stdout",
     "output_type": "stream",
     "text": [
      "True\n"
     ]
    }
   ],
   "source": [
    "# Using \"lambda\" function:\n",
    "is_numeric = lambda string: string.isnumeric()\n",
    "result = is_numeric(\"12345\")\n",
    "print(result)  \n"
   ]
  },
  {
   "cell_type": "markdown",
   "id": "4c9d2ead-917d-42de-9c97-707587e5472c",
   "metadata": {},
   "source": [
    "3. Sort a list of tuples having fruit names and their quantity. [(\"mango\",99),(\"orange\",80), (\"grapes\", 1000)-"
   ]
  },
  {
   "cell_type": "code",
   "execution_count": 26,
   "id": "82596a02-ad48-414b-bd19-5172b22797e3",
   "metadata": {},
   "outputs": [
    {
     "name": "stdout",
     "output_type": "stream",
     "text": [
      "[('orange', 80), ('mango', 99), ('grapes', 1000)]\n"
     ]
    }
   ],
   "source": [
    "# Using \"lambda\" function and sorted function:\n",
    "fruits = [(\"mango\", 99), (\"orange\", 80), (\"grapes\", 1000)]\n",
    "sorted_fruits = sorted(fruits, key=lambda x: x[1])\n",
    "print(sorted_fruits)\n",
    "\n"
   ]
  },
  {
   "cell_type": "markdown",
   "id": "c371ca69-7454-4df6-a382-6ed015dadf4d",
   "metadata": {},
   "source": [
    "4. Find the squares of numbers from 1 to 10Y"
   ]
  },
  {
   "cell_type": "code",
   "execution_count": 25,
   "id": "15008f5a-583f-4d9b-a4de-45eff3e9f2fe",
   "metadata": {},
   "outputs": [
    {
     "name": "stdout",
     "output_type": "stream",
     "text": [
      "[1, 4, 9, 16, 25, 36, 49, 64, 81, 100]\n"
     ]
    }
   ],
   "source": [
    "# Using list comprehension:\n",
    "squares = [x**2 for x in range(1, 11)]\n",
    "print(squares)\n",
    "\n"
   ]
  },
  {
   "cell_type": "markdown",
   "id": "76073aa7-0684-4b3c-82b1-d306110f1eab",
   "metadata": {},
   "source": [
    "5. Find the cube root of numbers from 1 to 10Y"
   ]
  },
  {
   "cell_type": "code",
   "execution_count": 24,
   "id": "007217c4-855d-4d9e-805c-c2fb049d5f71",
   "metadata": {},
   "outputs": [
    {
     "name": "stdout",
     "output_type": "stream",
     "text": [
      "[1.0, 1.2599210498948732, 1.4422495703074083, 1.5874010519681994, 1.7099759466766968, 1.8171205928321397, 1.912931182772389, 2.0, 2.080083823051904, 2.154434690031884]\n"
     ]
    }
   ],
   "source": [
    "#Using list comprehension and \"math\" module:\n",
    "import math\n",
    "cube_roots = [math.pow(x, 1/3) for x in range(1, 11)]\n",
    "print(cube_roots)\n"
   ]
  },
  {
   "cell_type": "markdown",
   "id": "7c5c8e98-f08b-46db-9f93-265994a65092",
   "metadata": {},
   "source": [
    "6. Check if a given number is evenY"
   ]
  },
  {
   "cell_type": "code",
   "execution_count": 23,
   "id": "0868e0b9-547a-4f66-8c56-5279a5aa11ea",
   "metadata": {},
   "outputs": [
    {
     "name": "stdout",
     "output_type": "stream",
     "text": [
      "True\n"
     ]
    }
   ],
   "source": [
    "#Using \"lambda\" function:\n",
    "is_even = lambda num: num % 2 == 0\n",
    "result = is_even(4)\n",
    "print(result) \n"
   ]
  },
  {
   "cell_type": "markdown",
   "id": "dc7d848f-f9d6-4e0b-9811-eed7e137783d",
   "metadata": {},
   "source": [
    "7. Filter odd numbers from the given list. [1,2,3,4,5,6,7,8,9,10]"
   ]
  },
  {
   "cell_type": "code",
   "execution_count": 22,
   "id": "8af32735-570b-490d-95e7-db3330ef6234",
   "metadata": {},
   "outputs": [
    {
     "name": "stdout",
     "output_type": "stream",
     "text": [
      "[1, 3, 5, 7, 9]\n"
     ]
    }
   ],
   "source": [
    "# Using \"filter\" function and \"lambda\" function:\n",
    "numbers = [1, 2, 3, 4, 5, 6, 7, 8, 9, 10]\n",
    "odd_numbers = list(filter(lambda x: x % 2 != 0, numbers))\n",
    "print(odd_numbers)\n",
    "\n"
   ]
  },
  {
   "cell_type": "markdown",
   "id": "1a597ae2-188d-46be-9c21-e76b779b2cfe",
   "metadata": {},
   "source": [
    "8. Sort a list of integers into positive and negative integers lists.\n",
    "[1,2,3,4,5,6,-1,-2,-3,-4,-5,0]"
   ]
  },
  {
   "cell_type": "code",
   "execution_count": 21,
   "id": "2ee242b3-aef0-4b7f-a409-de00800d1c46",
   "metadata": {},
   "outputs": [
    {
     "name": "stdout",
     "output_type": "stream",
     "text": [
      "[1, 2, 3, 4, 5, 6]\n",
      "[-1, -2, -3, -4, -5]\n"
     ]
    }
   ],
   "source": [
    "#using list comprehension\n",
    "numbers = [1, 2, 3, 4, 5, 6, -1, -2, -3, -4, -5, 0]\n",
    "positive_integers = [x for x in numbers if x > 0]\n",
    "negative_integers = [x for x in numbers if x < 0]\n",
    "print(positive_integers)\n",
    "print(negative_integers)\n",
    "\n"
   ]
  },
  {
   "cell_type": "code",
   "execution_count": null,
   "id": "eb489406-7b83-49f3-b1c5-1107b59ae084",
   "metadata": {},
   "outputs": [],
   "source": []
  }
 ],
 "metadata": {
  "kernelspec": {
   "display_name": "Python 3 (ipykernel)",
   "language": "python",
   "name": "python3"
  },
  "language_info": {
   "codemirror_mode": {
    "name": "ipython",
    "version": 3
   },
   "file_extension": ".py",
   "mimetype": "text/x-python",
   "name": "python",
   "nbconvert_exporter": "python",
   "pygments_lexer": "ipython3",
   "version": "3.10.8"
  }
 },
 "nbformat": 4,
 "nbformat_minor": 5
}
